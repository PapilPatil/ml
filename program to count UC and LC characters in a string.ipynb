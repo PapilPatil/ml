{
 "cells": [
  {
   "cell_type": "code",
   "execution_count": 2,
   "metadata": {},
   "outputs": [
    {
     "name": "stdout",
     "output_type": "stream",
     "text": [
      "No. of UpperCase characters is 1\n",
      "No. of LowerCase characters is 43\n"
     ]
    }
   ],
   "source": [
    "string = 'It is much easier to parse a list of numbers separated '\n",
    "\n",
    "ucCount = 0\n",
    "lcCount = 0\n",
    "\n",
    "for i in string:\n",
    "    if i.isupper():\n",
    "        ucCount = ucCount + 1\n",
    "    elif i.islower():\n",
    "        lcCount = lcCount + 1\n",
    "print(\"No. of UpperCase characters is %d\"%ucCount)\n",
    "print(\"No. of LowerCase characters is %d\"%lcCount)"
   ]
  },
  {
   "cell_type": "code",
   "execution_count": null,
   "metadata": {},
   "outputs": [],
   "source": []
  }
 ],
 "metadata": {
  "kernelspec": {
   "display_name": "Python 2",
   "language": "python",
   "name": "python2"
  },
  "language_info": {
   "codemirror_mode": {
    "name": "ipython",
    "version": 2
   },
   "file_extension": ".py",
   "mimetype": "text/x-python",
   "name": "python",
   "nbconvert_exporter": "python",
   "pygments_lexer": "ipython2",
   "version": "2.7.14"
  }
 },
 "nbformat": 4,
 "nbformat_minor": 2
}
